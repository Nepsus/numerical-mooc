{
 "metadata": {
  "name": "",
  "signature": "sha256:ffe772fa47af8523a7cc4002b310fd07c2a595ab556e47506242a4494370f8a2"
 },
 "nbformat": 3,
 "nbformat_minor": 0,
 "worksheets": [
  {
   "cells": [
    {
     "cell_type": "code",
     "collapsed": false,
     "input": [
      "from math import sin, cos, log, ceil\n",
      "import numpy\n",
      "import matplotlib.pyplot as plt\n",
      "%matplotlib inline\n",
      "from matplotlib import rcParams\n",
      "rcParams['font.family'] = 'serif'\n",
      "rcParams['font.size'] = 16\n",
      "\n",
      "# model parameters:\n",
      "g = 9.8      # gravity in m s^{-2}\n",
      "v_t = 4.9  # trim velocity in m s^{-1}   \n",
      "C_D = 1/5.  # drag coefficient --- or D/L if C_L=1\n",
      "C_L = 1.0    # for convenience, use C_L = 1\n",
      "\n",
      "### set initial conditions ###\n",
      "x0 = 0.0     # horizotal position is arbitrary\n",
      "y0 = 2.0  # initial altitude"
     ],
     "language": "python",
     "metadata": {},
     "outputs": [],
     "prompt_number": 13
    },
    {
     "cell_type": "code",
     "collapsed": false,
     "input": [
      "def f(u):\n",
      "    \"\"\"Returns the right-hand side of the phugoid system of equations.\n",
      "    \n",
      "    Parameters\n",
      "    ----------\n",
      "    u : array of float\n",
      "        array containing the solution at time n.\n",
      "        \n",
      "    Returns\n",
      "    -------\n",
      "    dudt : array of float\n",
      "        array containing the RHS given u.\n",
      "    \"\"\"\n",
      "    \n",
      "    v = u[0]\n",
      "    theta = u[1]\n",
      "    x = u[2]\n",
      "    y = u[3]\n",
      "    return numpy.array([-g*sin(theta) - C_D/C_L*g/v_t**2*v**2,\n",
      "                      -g*cos(theta)/v + g/v_t**2*v,\n",
      "                      v*cos(theta),\n",
      "                      v*sin(theta)])"
     ],
     "language": "python",
     "metadata": {},
     "outputs": [],
     "prompt_number": 14
    },
    {
     "cell_type": "code",
     "collapsed": false,
     "input": [
      "def euler_step(u, f, dt):\n",
      "    \"\"\"Returns the solution at the next time-step using Euler's method.\n",
      "    \n",
      "    Parameters\n",
      "    ----------\n",
      "    u : array of float\n",
      "        solution at the previous time-step.\n",
      "    f : function\n",
      "        function to compute the right hand-side of the system of equation.\n",
      "    dt : float\n",
      "        time-increment.\n",
      "    \n",
      "    Returns\n",
      "    -------\n",
      "    u_n_plus_1 : array of float\n",
      "        approximate solution at the next time step.\n",
      "    \"\"\"\n",
      "    \n",
      "    return u + dt * f(u)"
     ],
     "language": "python",
     "metadata": {},
     "outputs": [],
     "prompt_number": 15
    },
    {
     "cell_type": "code",
     "collapsed": false,
     "input": [
      "T = 100.0                          # final time\n",
      "dt = 0.01                           # time increment\n",
      "N = int(T/dt) + 1                  # number of time-steps\n",
      "t = numpy.linspace(0.0, T, N) # time discretization\n",
      "Nbr=50\n",
      "v0=numpy.linspace(5.0,20.0,Nbr)   \n",
      "theta0=numpy.linspace(-numpy.pi/2.,numpy.pi/2.,Nbr)\n",
      "cpt=0\n",
      "\n",
      "U_max=numpy.empty((Nbr*Nbr,4))\n",
      "\n",
      "for v in  v0:\n",
      "    for theta in theta0:\n",
      "           \n",
      "# initialize the array containing the solution for each time-step\n",
      "        u = numpy.empty((N, 4))\n",
      "        u[0] = numpy.array([v, theta, x0, y0])# fill 1st element with initial values\n",
      "        \n",
      "        n=0\n",
      "        while (u[n,3]>0): # and (u[n,0]>=0.000001) or (n<N-1) : #y=0 the plane has landed and the second condition exists because v->0 and we divide by v in f(u)\n",
      "# time loop - Euler method    \n",
      "            u[n+1] = euler_step(u[n], f, dt)\n",
      "            n=n+1\n",
      "        \n",
      "        U_max [cpt] = numpy.array([v,theta,u[n,2],u[n,3]])\n",
      "        cpt=cpt+1\n",
      "        \n",
      "index_best=numpy.argmax(U_max[:,2])\n",
      "v0_best=U_max[index_best,0]\n",
      "theta0_best=U_max[index_best,1]\n",
      "x_best=U_max[index_best,2]\n",
      "y_best=U_max[index_best,3]\n",
      "\n",
      "print 'v0_best =',v0_best\n",
      "print 'theta0_best =',theta0_best\n",
      "print 'x_best =',x_best\n",
      "print 'y_best =',y_best\n"
     ],
     "language": "python",
     "metadata": {},
     "outputs": [
      {
       "output_type": "stream",
       "stream": "stdout",
       "text": [
        "v0_best = 14.7959183673\n",
        "theta0_best = -0.160285339469\n",
        "x_best = 19.0688465644\n",
        "y_best = -0.00453830451394\n"
       ]
      }
     ],
     "prompt_number": 16
    },
    {
     "cell_type": "markdown",
     "metadata": {},
     "source": [
      "The solution is not realistic because v0 est too high.\n",
      "(I am not sure but i think the second condition of the while loop breaks the physic's rules of an airplane.)"
     ]
    }
   ],
   "metadata": {}
  }
 ]
}