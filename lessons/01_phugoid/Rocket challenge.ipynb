{
 "metadata": {
  "name": "",
  "signature": "sha256:e46ba05c21b29a886e9afbfdea500a4e6202e379caa01a97d7439fd204b31369"
 },
 "nbformat": 3,
 "nbformat_minor": 0,
 "worksheets": [
  {
   "cells": [
    {
     "cell_type": "code",
     "collapsed": false,
     "input": [
      "from math import sin, cos, log\n",
      "import numpy\n",
      "import time\n",
      "import matplotlib.pyplot as plt\n",
      "%matplotlib inline\n",
      "from matplotlib import rcParams\n",
      "rcParams['font.family'] = 'serif'\n",
      "rcParams['font.size'] = 16"
     ],
     "language": "python",
     "metadata": {},
     "outputs": [],
     "prompt_number": 258
    },
    {
     "cell_type": "code",
     "collapsed": false,
     "input": [
      "# model parameters:\n",
      "g = 9.81      # gravity in m s^{-2}\n",
      "ms = 50.0 # weight of the rocket shell in kg\n",
      "rho = 1.091 #average air density in kgm^{-3}\n",
      "A=numpy.pi*0.5**2 # maximum cross sectional area of the rocket\n",
      "ve=325.0 #exhaust speed in m/s\n",
      "Cd=0.15 #drag coefficient\n",
      "\n",
      "\n",
      "### set initial conditions ###\n",
      "v0 = 0.0     # starting velocity\n",
      "h0 = 0.0 # initial altitude\n",
      "mp0 = 100.0     #initial weight of the rocket propellant\n",
      "\n",
      "\n"
     ],
     "language": "python",
     "metadata": {},
     "outputs": [],
     "prompt_number": 259
    },
    {
     "cell_type": "code",
     "collapsed": false,
     "input": [
      "def f(u,mp_point,mp,t):\n",
      "    \"\"\"Returns the right-hand side of the phugoid system of equations.\n",
      "    \n",
      "    Parameters\n",
      "    ----------\n",
      "    u : array of float\n",
      "        array containing the solution at time n.\n",
      "    t : time    \n",
      "    Returns\n",
      "    -------\n",
      "    dudt : array of float\n",
      "        array containing the RHS given u.\n",
      "    \"\"\"\n",
      "    \n",
      "    h = u[0]\n",
      "    v = u[1]\n",
      "\n",
      "    return numpy.array([v,\n",
      "                      -g+mp_point/(ms+mp)*ve-0.5/(ms+mp)*rho*v*abs(v)*A*Cd])\n",
      "\n",
      "\n",
      "def euler_step(u,mp_point,mp, f, dt):\n",
      "    \"\"\"Returns the solution at the next time-step using Euler's method.\n",
      "    \n",
      "    Parameters\n",
      "    ----------\n",
      "    u : array of float\n",
      "        solution at the previous time-step.\n",
      "    f : function\n",
      "        function to compute the right hand-side of the system of equation.\n",
      "    dt : float\n",
      "        time-increment.\n",
      "    \n",
      "    Returns\n",
      "    -------\n",
      "    u_n_plus_1 : array of float\n",
      "        approximate solution at the next time step.\n",
      "    \"\"\"\n",
      "    \n",
      "    return u + dt * f(u,mp_point,mp,t)"
     ],
     "language": "python",
     "metadata": {},
     "outputs": [],
     "prompt_number": 260
    },
    {
     "cell_type": "code",
     "collapsed": false,
     "input": [
      "T = 100.0                          # final time\n",
      "dt = 0.1                           # time increment\n",
      "N = int(T/dt) + 1                  # number of time-steps\n",
      "t = numpy.linspace(0.0, T, N)      # time discretization\n",
      "\n",
      "# initialize the array containing the solution for each time-step\n",
      "u = numpy.empty((N, 2))\n",
      "u[0] = numpy.array([h0, v0])# fill 1st element with initial values\n",
      "\n",
      "\n",
      "### Mass of the propellant ###\n",
      "\n",
      "mp_point=numpy.zeros(N)\n",
      "mp=numpy.empty(N)\n",
      "\n",
      "for i in range(int(5/dt)):\n",
      "    mp_point[i]=20.0\n",
      "    mp[i]=mp0-i*dt*mp_point[i]\n",
      "\n",
      "\n",
      "# time loop - Euler method\n",
      "for n in range(N-1):\n",
      "    \n",
      "    u[n+1] = euler_step(u[n],mp_point[n],mp[n], f, dt)"
     ],
     "language": "python",
     "metadata": {},
     "outputs": [],
     "prompt_number": 261
    },
    {
     "cell_type": "code",
     "collapsed": false,
     "input": [
      "h=u[:,0]\n",
      "v=u[:,1]\n",
      "\n",
      "# visualization of the path\n",
      "plt.figure(figsize=(8,6))\n",
      "plt.grid(True)\n",
      "plt.xlabel(r'x', fontsize=18)\n",
      "plt.ylabel(r'y', fontsize=18)\n",
      "plt.title('rocket trajectory, flight time = %.2f' % T, fontsize=18)\n",
      "plt.plot(t,h, 'k-', label='altitude');\n",
      "plt.plot(t,v, 'r--', label='velocity');\n",
      "plt.legend();"
     ],
     "language": "python",
     "metadata": {},
     "outputs": [
      {
       "metadata": {},
       "output_type": "display_data",
       "png": "[encoded data removed]",
       "text": [
        "<matplotlib.figure.Figure at 0xa0fda90>"
       ]
      }
     ],
     "prompt_number": 262
    },
    {
     "cell_type": "markdown",
     "metadata": {},
     "source": [
      "It is not realistic but we can draw the trajectory for h<=0"
     ]
    },
    {
     "cell_type": "code",
     "collapsed": false,
     "input": [
      "print mp[3.2*10]"
     ],
     "language": "python",
     "metadata": {},
     "outputs": [
      {
       "output_type": "stream",
       "stream": "stdout",
       "text": [
        "36.0\n"
       ]
      }
     ],
     "prompt_number": 263
    },
    {
     "cell_type": "code",
     "collapsed": false,
     "input": [
      "i_max =numpy.argmax(u[:,1])\n",
      "print 'vmax=',u[i_max,1],';','tmax=',i_max*dt,';','hmax=',u[i_max,0]"
     ],
     "language": "python",
     "metadata": {},
     "outputs": [
      {
       "output_type": "stream",
       "stream": "stdout",
       "text": [
        "vmax= 232.106133413 ; tmax= 5.0 ; hmax= 523.522834292\n"
       ]
      }
     ],
     "prompt_number": 264
    },
    {
     "cell_type": "code",
     "collapsed": false,
     "input": [
      "j_max =numpy.argmax(u[:,0])\n",
      "print 'vmax=',u[j_max,1],';','tmax=',j_max*dt,';','hmax=',u[j_max,0]"
     ],
     "language": "python",
     "metadata": {},
     "outputs": [
      {
       "output_type": "stream",
       "stream": "stdout",
       "text": [
        "vmax= -0.22067692103 ; tmax= 15.7 ; hmax= 1334.18294543\n"
       ]
      }
     ],
     "prompt_number": 265
    },
    {
     "cell_type": "code",
     "collapsed": false,
     "input": [
      "idx_negative= numpy.where(h<0.0)[0]\n",
      "idx_ground = idx_negative[0]\n",
      "print 't_ground=',(idx_ground-1)*dt,';','v_ground=',v[idx_ground-1],';','h_ground=',h[idx_ground-1],';'"
     ],
     "language": "python",
     "metadata": {},
     "outputs": [
      {
       "output_type": "stream",
       "stream": "stdout",
       "text": [
        "t_ground= 37.0 ; v_ground= -85.9759134804 ; h_ground= 6.13901004188 ;\n"
       ]
      }
     ],
     "prompt_number": 269
    }
   ],
   "metadata": {}
  }
 ]
}